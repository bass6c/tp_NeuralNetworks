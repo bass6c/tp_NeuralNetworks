{
 "cells": [
  {
   "cell_type": "markdown",
   "metadata": {},
   "source": [
    "# Practical session: Neural networks"
   ]
  },
  {
   "cell_type": "code",
   "execution_count": 1,
   "metadata": {},
   "outputs": [],
   "source": [
    "import matplotlib.pyplot as plt\n",
    "import numpy as np"
   ]
  },
  {
   "cell_type": "markdown",
   "metadata": {},
   "source": [
    "In this lab we will implement the different elements that compose a neural network"
   ]
  },
  {
   "cell_type": "markdown",
   "metadata": {},
   "source": [
    "# Data set"
   ]
  },
  {
   "cell_type": "markdown",
   "metadata": {},
   "source": [
    "In the first part, we will try to predict the selling price of real estate in the city Boston.  \n",
    "To do so we will use the classic boston house-prices dataset available directly in the machine learning libraryg [scikit-learn](https://scikit-learn.org/stable/modules/generated/sklearn.datasets.load_boston.html)  \n",
    "So let's start by importing the dataset:"
   ]
  },
  {
   "cell_type": "code",
   "execution_count": 2,
   "metadata": {},
   "outputs": [],
   "source": [
    "from sklearn.datasets import fetch_california_housing \n",
    "dataset = fetch_california_housing()"
   ]
  },
  {
   "cell_type": "markdown",
   "metadata": {},
   "source": [
    "We will therefore try to predict the price of houses from 13 features presented [here](https://scikit-learn.org/stable/datasets/index.html#boston-dataset).   \n",
    "\n",
    "Let's start by separating the dataset in 2:\n",
    "* A learning set to train the model\n",
    "* A test set to evaluate the learned model\n",
    "\n",
    "Use [train_test_split](https://scikit-learn.org/stable/modules/generated/sklearn.model_selection.train_test_split.html)  from scikit-learn to separate the dataset as follows:\n",
    "* X_train -> the features to train the model\n",
    "* y_train -> prices to predict during learning\n",
    "* X_test -> the features to test the model\n",
    "* y_test -> labels to evaluate the model's predictions "
   ]
  },
  {
   "cell_type": "code",
   "execution_count": 38,
   "metadata": {},
   "outputs": [],
   "source": [
    "# %load solutions/boston_train_test_split.py\n",
    "from sklearn.model_selection import train_test_split\n",
    "import numpy as np\n",
    "\n",
    "data = np.asarray(dataset.data, dtype='float32')[0:500,:]\n",
    "target = np.asarray(dataset.target.reshape(-1, 1), dtype='float32')[0:500,:]\n",
    "\n",
    "X_train, X_test, y_train, y_test = train_test_split(data, target, test_size=.2,random_state=42)\n"
   ]
  },
  {
   "cell_type": "markdown",
   "metadata": {},
   "source": [
    "Among the best practices for improving the learning of neural networks, it is important to normalize the input data to obtain an average close to 0 and a variance to 1.\n",
    "Use the [StandardScaler](https://scikit-learn.org/stable/modules/generated/sklearn.preprocessing.StandardScaler.html) method of scikit-learn to normalize X_train and X_test as well as y_train and y_test:"
   ]
  },
  {
   "cell_type": "code",
   "execution_count": 4,
   "metadata": {},
   "outputs": [],
   "source": [
    "# %load solutions/boston_scaler.py\n",
    "from sklearn.preprocessing import StandardScaler \n",
    "scaler = StandardScaler()\n",
    "X_tr= scaler.fit_transform(X_train)\n",
    "X_ts = scaler.fit_transform(X_test)\n",
    "y_tr = scaler.fit_transform(y_train)\n",
    "y_ts = scaler.fit_transform(y_test)"
   ]
  },
  {
   "cell_type": "markdown",
   "metadata": {},
   "source": [
    "# Neural networks"
   ]
  },
  {
   "cell_type": "markdown",
   "metadata": {},
   "source": [
    "We are going to build our neural networks as successions of layers..  \n",
    "We will distinguish, similarly to the most common frameworks (Tensorflow, Pytorch, Keras ...) two types of layers:\n",
    "* weight and gradient layers\n",
    "* activation layers \n",
    "\n",
    "Each layer will have:\n",
    "* a forward method which receives as input a vector $x$ and apply a transformation to it that will serve as inputs for the following layers\n",
    "* a backward method which receives as input gradients and backpropagate them to the previous layers \n",
    "* a layer_type argument used to define the type of layer\n",
    "\n",
    "The following class defines the structure of a layer:"
   ]
  },
  {
   "cell_type": "code",
   "execution_count": 5,
   "metadata": {},
   "outputs": [],
   "source": [
    "class Layer:\n",
    "    def __init__(self):\n",
    "        self.layer_type = 'abstract'\n",
    "\n",
    "    def forward(self, inputs):\n",
    "        pass\n",
    "    \n",
    "    def backward(self, grad):\n",
    "        pass"
   ]
  },
  {
   "cell_type": "markdown",
   "metadata": {},
   "source": [
    "A neural network will therefore be a class:\n",
    "* containing a list of layers\n",
    "* having a forward method (which will be in fact the composition of the forward methods of its layers) which for a vector x will provide a prediction\n",
    "* and a backward method (composition of the backward methods of its layers) which will backpropagate the gradients from its last layer to its first layers."
   ]
  },
  {
   "cell_type": "markdown",
   "metadata": {},
   "source": [
    "![NeuralNetwork](layers.png)"
   ]
  },
  {
   "cell_type": "markdown",
   "metadata": {},
   "source": [
    "# Layers"
   ]
  },
  {
   "cell_type": "markdown",
   "metadata": {},
   "source": [
    "We will now implement the layers of our network.  \n",
    "Let's start with the \"linear\" layers composed of weight $W$ and bias $b$.  \n",
    "These layers receive a vector $x$ as input and return the result of $Wx + b$.\n",
    "\n",
    "Complete the definition of the LinearLayer class:\n",
    "* weights and biases will be stored in a dictionary named \"params\". The weights will be represented by a matrix $input \\times output$ initialized uniformly between $[-0.1, 0.1]$ (you may use random.uniform function from numpy)\n",
    "* implement the forward method (you can use the np.matmul function to calculate $Wx$),  it will be necessary to keep in memory the input vector which will be used when calling the backward method:"
   ]
  },
  {
   "cell_type": "code",
   "execution_count": 50,
   "metadata": {},
   "outputs": [],
   "source": [
    "#%load solutions/layers.py\n",
    "class Linear(Layer):\n",
    "    def __init__(self, input_size, output_size):\n",
    "        super().__init__()\n",
    "        \n",
    "        self.layer_type = 'linear'\n",
    "        self.params ={}\n",
    "        self.grads = {}\n",
    "        #weights est la matrice [input x output] contenant les poids de la couche \n",
    "        self.params[\"weights\"] = np.random.uniform(-.1,.1, size=(input_size,output_size))\n",
    "        #biais est un vecteur de dimension: (output_size)\n",
    "        self.params[\"bias\"] = np.random.uniform(0,1,output_size)\n",
    "\n",
    "    def forward(self, inputs):\n",
    "        # outputs = inputs @ weights + biais\n",
    "        #Nous devons garder en mémoire les inputs car ils seront utilisés dans la méthode backward\n",
    "        self.inputs = inputs\n",
    "        output = np.dot(inputs, self.params['weights']) + self.params['bias']\n",
    "        self.output = output\n",
    "        return self.output\n",
    "    \n",
    "    def backward(self, grad):\n",
    "        # we need to sum gradients over the batch axis\n",
    "        self.grads[\"weights\"] = np.matmul(self.inputs.T, grad)\n",
    "        self.grads[\"bias\"] = np.sum(grad, axis=0)\n",
    "        return np.matmul(grad, self.params[\"weights\"])\n"
   ]
  },
  {
   "cell_type": "markdown",
   "metadata": {},
   "source": [
    "Test your layer, the following cell should not return an error:"
   ]
  },
  {
   "cell_type": "code",
   "execution_count": 49,
   "metadata": {},
   "outputs": [
    {
     "name": "stdout",
     "output_type": "stream",
     "text": [
      "(10,)\n",
      "(10, 5)\n"
     ]
    },
    {
     "ename": "ValueError",
     "evalue": "matmul: Input operand 1 has a mismatch in its core dimension 0, with gufunc signature (n?,k),(k,m?)->(n?,m?) (size 10 is different from 5)",
     "output_type": "error",
     "traceback": [
      "\u001b[0;31m---------------------------------------------------------------------------\u001b[0m",
      "\u001b[0;31mValueError\u001b[0m                                Traceback (most recent call last)",
      "Cell \u001b[0;32mIn[49], line 8\u001b[0m\n\u001b[1;32m      6\u001b[0m test_linear_layer \u001b[39m=\u001b[39m Linear(input_size, output_size)\n\u001b[1;32m      7\u001b[0m \u001b[39massert\u001b[39;00m test_linear_layer\u001b[39m.\u001b[39mforward(X)\u001b[39m.\u001b[39mshape \u001b[39m==\u001b[39m (\u001b[39m5\u001b[39m,)\n\u001b[0;32m----> 8\u001b[0m \u001b[39massert\u001b[39;00m test_linear_layer\u001b[39m.\u001b[39;49mbackward(grads)\u001b[39m.\u001b[39mshape \u001b[39m==\u001b[39m (\u001b[39m10\u001b[39m,\u001b[39m10\u001b[39m)\n",
      "Cell \u001b[0;32mIn[47], line 26\u001b[0m, in \u001b[0;36mLinear.backward\u001b[0;34m(self, grad)\u001b[0m\n\u001b[1;32m     24\u001b[0m \u001b[39mself\u001b[39m\u001b[39m.\u001b[39mgrads[\u001b[39m\"\u001b[39m\u001b[39mweights\u001b[39m\u001b[39m\"\u001b[39m] \u001b[39m=\u001b[39m np\u001b[39m.\u001b[39mmatmul(\u001b[39mself\u001b[39m\u001b[39m.\u001b[39minputs\u001b[39m.\u001b[39mT, grad)\n\u001b[1;32m     25\u001b[0m \u001b[39mself\u001b[39m\u001b[39m.\u001b[39mgrads[\u001b[39m\"\u001b[39m\u001b[39mbias\u001b[39m\u001b[39m\"\u001b[39m] \u001b[39m=\u001b[39m np\u001b[39m.\u001b[39msum(grad, axis\u001b[39m=\u001b[39m\u001b[39m0\u001b[39m)\n\u001b[0;32m---> 26\u001b[0m \u001b[39mreturn\u001b[39;00m np\u001b[39m.\u001b[39;49mmatmul(grad, \u001b[39mself\u001b[39;49m\u001b[39m.\u001b[39;49mparams[\u001b[39m\"\u001b[39;49m\u001b[39mweights\u001b[39;49m\u001b[39m\"\u001b[39;49m])\n",
      "\u001b[0;31mValueError\u001b[0m: matmul: Input operand 1 has a mismatch in its core dimension 0, with gufunc signature (n?,k),(k,m?)->(n?,m?) (size 10 is different from 5)"
     ]
    }
   ],
   "source": [
    "input_size, output_size = 10, 5\n",
    "X = np.random.rand(input_size)\n",
    "print(X.shape)\n",
    "grads = np.random.rand(10,5)\n",
    "print(grads.shape)\n",
    "test_linear_layer = Linear(input_size, output_size)\n",
    "assert test_linear_layer.forward(X).shape == (5,)\n",
    "assert test_linear_layer.backward(grads).shape == (10,10)"
   ]
  },
  {
   "cell_type": "markdown",
   "metadata": {},
   "source": [
    "## Activation Layers"
   ]
  },
  {
   "cell_type": "markdown",
   "metadata": {},
   "source": [
    "We will now implement the activation functions used by neurons.\n",
    "Implement an activation function and its derivative (for example the ReLU function: $f(x) = max(0,x)$:"
   ]
  },
  {
   "cell_type": "code",
   "execution_count": 23,
   "metadata": {},
   "outputs": [],
   "source": [
    "# %load solutions/activations.py\n",
    "def relu(x):\n",
    "    # val = np.maximum(0,x)\n",
    "    return np.maximum(0,x)\n",
    "def relu_prime(x):\n",
    "    return np.where(x>0,1.0,0.0)\n",
    "   "
   ]
  },
  {
   "cell_type": "markdown",
   "metadata": {},
   "source": [
    "Now implement the activation layers:  \n",
    "They will be initialized with a function $f$ and its derivative"
   ]
  },
  {
   "cell_type": "code",
   "execution_count": 9,
   "metadata": {},
   "outputs": [],
   "source": [
    "#%load  solutions/activation_layer.py\n",
    "class Activation(Layer):\n",
    "    def __init__(self, f, f_prime):\n",
    "        super().__init__()\n",
    "        self.layer_type = 'activation'\n",
    "        self.f = f\n",
    "        self.f_prime = f_prime\n",
    "\n",
    "    def forward(self, inputs):\n",
    "        #Nous devons garder en mémo.ire les inputs car ils seront utilisés dans la méthode backward\n",
    "        self.intputs = inputs\n",
    "        return self.f(inputs)\n",
    "    \n",
    "    def backward(self, grad):\n",
    "        \"\"\" si y = f(x) et x = g(z)\n",
    "        alors dy/dz = f'(x) * g'(z)\n",
    "        Dans notre cas g'(z) correspond aux gradients en entrée\n",
    "        \"\"\"\n",
    "        return self.f_prime(self.intputs) * grad"
   ]
  },
  {
   "cell_type": "markdown",
   "metadata": {},
   "source": [
    "Test your activation layer, the following cell should not return an error"
   ]
  },
  {
   "cell_type": "code",
   "execution_count": 10,
   "metadata": {},
   "outputs": [],
   "source": [
    "relu_layer = Activation(f=relu, f_prime=relu_prime)\n",
    "\n",
    "#forward\n",
    "x = np.array([-1, 5, -2, 6])\n",
    "y = relu_layer.forward(x)\n",
    "assert np.array_equal(y, np.array([0, 5, 0, 6]))\n",
    "\n",
    "#backward\n",
    "incomming_grads = np.array([-0.1, 0.6, -0.4, -0.1])\n",
    "grads = relu_layer.backward(incomming_grads)\n",
    "assert np.array_equal(grads, np.array([-0. ,  0.6, -0. , -0.1]))"
   ]
  },
  {
   "cell_type": "markdown",
   "metadata": {},
   "source": [
    "## Neural network"
   ]
  },
  {
   "cell_type": "markdown",
   "metadata": {},
   "source": [
    "We will now define the class that will be used to represent our neural networks.  \n",
    "A neural network will have a list of layers and two methods: forward and backward.  \n",
    "\n",
    "Complete the forward method and the backward method of the NeuralNetwork class by calling the forward and backward methods of the network layers:"
   ]
  },
  {
   "cell_type": "code",
   "execution_count": 39,
   "metadata": {},
   "outputs": [],
   "source": [
    "\n",
    "class NeuralNetwork:\n",
    "    def __init__(self, layers):\n",
    "        self.layers = layers\n",
    "\n",
    "    def forward(self, inputs):\n",
    "        for i in self.layers[:-1]:\n",
    "            inputs = i.forward(inputs)\n",
    "        return Activation(f=relu,f_prime=relu_prime).forward(self.layers[-1].forward(inputs))\n",
    "    \n",
    "    def backward(self, grad):\n",
    "        for i in reversed(self.layers):\n",
    "            gr = i.backward(grad)\n",
    "            grad = Activation(f=relu, f_prime=relu_prime).backward(gr)\n",
    "        return grad\n",
    "        \n",
    "            "
   ]
  },
  {
   "cell_type": "markdown",
   "metadata": {},
   "source": [
    "We now have all the elements that compose a neural network.  \n",
    "Instantiate a neural network composedof 3 layers:\n",
    "* an input layer receiving a dimension 13 vector and consisting of 40 neurons\n",
    "* a hidden layer of 40 neurons\n",
    "* an output layer consisting of a single neuron"
   ]
  },
  {
   "cell_type": "code",
   "execution_count": 40,
   "metadata": {},
   "outputs": [],
   "source": [
    "# %load solutions/boston_network.py\n",
    "L1 = Linear(input_size= 8,output_size= 40)\n",
    "L2 = Linear(input_size=40,output_size=1)\n",
    "# L3 = np.zeros(8)\n",
    "net = NeuralNetwork([L1,L2])"
   ]
  },
  {
   "cell_type": "markdown",
   "metadata": {},
   "source": [
    "Test your network on the test set:"
   ]
  },
  {
   "cell_type": "code",
   "execution_count": 41,
   "metadata": {},
   "outputs": [
    {
     "name": "stdout",
     "output_type": "stream",
     "text": [
      "--- (100, 1)\n",
      "(100, 1)\n",
      "1.9198401075601579\n"
     ]
    },
    {
     "data": {
      "text/plain": [
       "<matplotlib.legend.Legend at 0x7f26b531b220>"
      ]
     },
     "execution_count": 41,
     "metadata": {},
     "output_type": "execute_result"
    },
    {
     "data": {
      "image/png": "[encoded data removed]",
      "text/plain": [
       "<Figure size 2000x500 with 1 Axes>"
      ]
     },
     "metadata": {},
     "output_type": "display_data"
    },
    {
     "name": "stderr",
     "output_type": "stream",
     "text": [
      "Bad pipe message: %s [b'd\\x00\\x9a\\x83\\x07K;v{\\x02\\x0fT\\x86\\xf1>\\x1e\\xd5\\x06 p\\xdf7\\xb1%\\xb5~\\x80\\xee\\xcc\\x05\\xb9\\xf3\\xff&\\xa6\\xf2^2V\\xb9f\\x0b\\xa0\\x95\\x84ZF\\n\\xe1\\xb26\\x00\\x08\\x13\\x02\\x13\\x03\\x13\\x01\\x00\\xff\\x01\\x00\\x00\\x8f\\x00']\n",
      "Bad pipe message: %s [b'\\x0e\\xe878']\n",
      "Bad pipe message: %s [b'\\xc7z\\xbco\\xe7qT{', b\"\\xef$\\x00\\x00|\\xc0,\\xc00\\x00\\xa3\\x00\\x9f\\xcc\\xa9\\xcc\\xa8\\xcc\\xaa\\xc0\\xaf\\xc0\\xad\\xc0\\xa3\\xc0\\x9f\\xc0]\\xc0a\\xc0W\\xc0S\\xc0+\\xc0/\\x00\\xa2\\x00\\x9e\\xc0\\xae\\xc0\\xac\\xc0\\xa2\\xc0\\x9e\\xc0\\\\\\xc0`\\xc0V\\xc0R\\xc0$\\xc0(\\x00k\\x00j\\xc0#\\xc0'\\x00g\\x00@\\xc0\\n\\xc0\\x14\\x009\\x008\\xc0\\t\\xc0\\x13\\x003\\x002\\x00\\x9d\\xc0\\xa1\\xc0\\x9d\\xc0Q\\x00\\x9c\\xc0\\xa0\\xc0\\x9c\\xc0P\\x00=\\x00<\\x005\\x00/\\x00\\x9a\\x00\\x99\\xc0\\x07\\xc0\\x11\\x00\\x96\\x00\\x05\\x00\\xff\\x01\\x00\\x00j\\x00\\x00\\x00\\x0e\\x00\\x0c\\x00\\x00\\t127.0.0.1\\x00\\x0b\\x00\\x04\\x03\\x00\\x01\\x02\\x00\\n\\x00\\x0c\\x00\\n\\x00\\x1d\\x00\\x17\\x00\\x1e\\x00\\x19\\x00\\x18\\x00#\\x00\\x00\"]\n",
      "Bad pipe message: %s [b'\\xd0\\x88\\xeb\\x0bb6\\\\\\xef\\x90\\xf2']\n",
      "Bad pipe message: %s [b'\\xa7\\x0e\\xbc\\xd9K\\x84\\x00\\x00\\xa6\\xc0,\\xc00\\x00\\xa3\\x00\\x9f\\xcc\\xa9\\xcc\\xa8\\xcc\\xaa\\xc0\\xaf\\xc0\\xad\\xc0\\xa3\\xc0\\x9f\\xc0]\\xc0a\\xc0W\\xc0S\\xc0+\\xc0/\\x00\\xa2\\x00\\x9e\\xc0\\xae\\xc0\\xac\\xc0\\xa2\\xc0\\x9e\\xc0\\\\\\xc0`\\xc0', b\"R\\xc0$\\xc0(\\x00k\\x00j\\xc0s\\xc0w\\x00\\xc4\\x00\\xc3\\xc0#\\xc0'\\x00g\\x00@\\xc0r\\xc0v\\x00\\xbe\\x00\\xbd\\xc0\\n\\xc0\\x14\\x009\\x008\\x00\\x88\\x00\\x87\\xc0\\t\\xc0\\x13\\x003\\x002\\x00\\x9a\\x00\\x99\\x00E\\x00D\\xc0\\x07\\xc0\\x11\\xc0\\x08\\xc0\\x12\\x00\\x16\\x00\\x13\\x00\\x9d\\xc0\\xa1\\xc0\\x9d\\xc0Q\\x00\\x9c\\xc0\\xa0\"]\n",
      "Bad pipe message: %s [b'\\xbf\\xa3\\xbf\\xb4\\x83\\x15\\\\^\\xddH7p[\\n\\x17\\x82\\xe5\\x8d\\x00\\x00>\\xc0\\x14\\xc0\\n\\x009\\x008\\x007\\x006\\xc0\\x0f\\xc0\\x05\\x005\\xc0\\x13\\xc0\\t\\x003\\x002\\x001\\x000\\xc0\\x0e\\xc0\\x04\\x00/\\x00\\x9a\\x00\\x99\\x00\\x98\\x00\\x97\\x00\\x96\\x00\\x07\\xc0\\x11\\xc0\\x07\\xc0\\x0c\\xc0\\x02\\x00\\x05\\x00\\x04\\x00\\xff\\x02\\x01\\x00\\x00C\\x00\\x00\\x00\\x0e\\x00\\x0c\\x00\\x00\\t127.0.0.1\\x00\\x0b\\x00\\x04\\x03\\x00\\x01\\x02\\x00\\n\\x00\\x1c\\x00\\x1a\\x00\\x17\\x00\\x19\\x00\\x1c\\x00\\x1b\\x00\\x18\\x00\\x1a\\x00\\x16\\x00\\x0e\\x00\\r\\x00\\x0b\\x00\\x0c\\x00\\t\\x00\\n']\n",
      "Bad pipe message: %s [b'7\\x17m\\xecB\\xb6.A\\x07a\\xadR\\x15\\x14\\x97\\xef\\x13\\x1c\\x00\\x00\\xa2\\xc0\\x14\\xc0\\n\\x009\\x008\\x007\\x006\\x00\\x88\\x00\\x87\\x00\\x86\\x00\\x85\\xc0\\x19\\x00:\\x00\\x89\\xc0\\x0f\\xc0\\x05\\x005\\x00\\x84\\xc0\\x13\\xc0\\t\\x003\\x002\\x001\\x000\\x00\\x9a\\x00\\x99\\x00\\x98\\x00\\x97\\x00E\\x00D\\x00C\\x00B\\xc0\\x18\\x004\\x00\\x9b\\x00F\\xc0\\x0e\\xc0\\x04\\x00/\\x00\\x96\\x00A\\x00\\x07\\xc0\\x11\\xc0\\x07\\xc0\\x16\\x00\\x18\\xc0\\x0c\\xc0\\x02\\x00\\x05\\x00\\x04\\xc0\\x12\\xc0\\x08\\x00\\x16\\x00\\x13\\x00\\x10\\x00\\r\\xc0\\x17\\x00\\x1b\\xc0\\r\\xc0\\x03\\x00\\n\\x00\\x15\\x00\\x12\\x00\\x0f\\x00', b'\\x1a\\x00\\t\\x00\\x14\\x00\\x11\\x00\\x19\\x00\\x08']\n",
      "Bad pipe message: %s [b'D\\xf0S\\x18l=wD\\x97\\xa4\\x90ii(\\xdd\\x1b\\xdbP\\x00\\x00\\xa2\\xc0\\x14\\xc0\\n\\x009\\x008\\x007\\x006\\x00\\x88\\x00\\x87\\x00\\x86\\x00\\x85\\xc0\\x19\\x00:\\x00\\x89\\xc0\\x0f\\xc0\\x05\\x005\\x00\\x84\\xc0\\x13\\xc0\\t\\x003\\x002\\x001\\x000\\x00\\x9a\\x00\\x99\\x00\\x98\\x00\\x97\\x00E\\x00D\\x00C\\x00B\\xc0\\x18\\x004\\x00\\x9b\\x00F\\xc0\\x0e\\xc0\\x04\\x00/\\x00\\x96\\x00A\\x00\\x07\\xc0\\x11\\xc0\\x07\\xc0\\x16\\x00\\x18\\xc0\\x0c\\xc0\\x02\\x00\\x05\\x00\\x04\\xc0\\x12\\xc0\\x08\\x00\\x16\\x00\\x13\\x00\\x10\\x00\\r\\xc0\\x17\\x00\\x1b\\xc0\\r\\xc0\\x03\\x00\\n\\x00\\x15\\x00\\x12\\x00\\x0f\\x00\\x0c\\x00\\x1a\\x00\\t\\x00\\x14\\x00\\x11\\x00\\x19\\x00\\x08\\x00\\x06\\x00\\x17\\x00\\x03\\xc0\\x10\\xc0\\x06\\xc0\\x15\\xc0\\x0b\\xc0\\x01\\x00\\x02\\x00\\x01\\x00\\xff\\x02\\x01\\x00\\x00C\\x00\\x00\\x00\\x0e\\x00\\x0c\\x00\\x00\\t127.0.0.1\\x00\\x0b\\x00\\x04\\x03\\x00\\x01']\n",
      "Bad pipe message: %s [b'\\n']\n",
      "Bad pipe message: %s [b'\\xe4\\xaaI\\xee\\xf0\\xd3js\\xf32=@\\xc0K\\x82\\xdf\\xa5\\xcc\\x00\\x00\\xa2\\xc0\\x14\\xc0\\n\\x009\\x008\\x007\\x006\\x00\\x88\\x00\\x87\\x00\\x86\\x00\\x85\\xc0\\x19\\x00:\\x00\\x89\\xc0\\x0f\\xc0\\x05\\x005\\x00\\x84\\xc0\\x13\\xc0\\t\\x003\\x002\\x001\\x000\\x00\\x9a\\x00\\x99\\x00\\x98\\x00']\n",
      "Bad pipe message: %s [b\"\\x99\\xd7\\x14Zjd*U\\x10'/p\\x85(\\x1e\\xd5\\xb1\\xa4\\x00\\x00\\x86\\xc00\\xc0,\\xc0(\\xc0$\\xc0\\x14\\xc0\\n\\x00\\xa5\\x00\\xa3\\x00\\xa1\\x00\\x9f\\x00k\\x00j\\x00i\\x00h\\x009\\x008\\x007\\x006\\xc02\\xc0.\\xc0*\\xc0&\\xc0\\x0f\\xc0\\x05\\x00\\x9d\\x00=\\x005\\xc0/\\xc0+\\xc0'\\xc0\", b'\\x13\\xc0\\t\\x00\\xa4\\x00\\xa2\\x00\\xa0\\x00\\x9e\\x00g\\x00@\\x00?\\x00>\\x003\\x002\\x001\\x000\\xc01\\xc0-\\xc0)\\xc0']\n",
      "Bad pipe message: %s [b'\\x0e\\xc0\\x04\\x00\\x9c\\x00<\\x00/\\x00\\x9a\\x00\\x99\\x00\\x98\\x00\\x97\\x00\\x96\\x00\\x07\\xc0\\x11\\xc0\\x07\\xc0\\x0c\\xc0\\x02\\x00\\x05\\x00\\x04\\x00\\xff\\x02']\n",
      "Bad pipe message: %s [b'']\n"
     ]
    }
   ],
   "source": [
    "from sklearn.metrics import mean_absolute_error\n",
    "\n",
    "y_pred = net.forward(X_test)\n",
    "print('---',y_pred.shape)\n",
    "print(y_test.shape)\n",
    "print(mean_absolute_error(y_pred, y_test))\n",
    "    \n",
    "plt.figure(figsize=(20,5))\n",
    "plt.scatter(range(len(y_test)), scaler.inverse_transform(y_test), label='target')\n",
    "plt.scatter(range(len(y_test)), scaler.inverse_transform(y_pred), label='prediction')\n",
    "plt.legend()"
   ]
  },
  {
   "cell_type": "markdown",
   "metadata": {},
   "source": [
    "# Loss function"
   ]
  },
  {
   "cell_type": "markdown",
   "metadata": {},
   "source": [
    "The network predictions are bad.  \n",
    "This is normal, we haven't trained him yet.  \n",
    "Let's start by implementing the loss function that the neural network will use in its learning.  \n",
    "We are here in a regression problem, we will use the mean squared error to learn our model:\n",
    "\n",
    "$$\\sum_{i}^{n}\\frac{(f(x_i) - y_i)^2}{n}$$  \n",
    "Implement the loss function as well as its derivative which will be used during the back-propagation:"
   ]
  },
  {
   "cell_type": "code",
   "execution_count": 42,
   "metadata": {},
   "outputs": [],
   "source": [
    "# %load solutions/mse.py\n",
    "class MSE():\n",
    "\n",
    "    def loss(self, y_pred, y_true):\n",
    "        #returns a scalar\n",
    "        return np.mean((y_pred - y_true)**2)\n",
    "    \n",
    "    def grad(self, y_pred, y_true):\n",
    "        #returns a tensor of gradients\n",
    "        return 2*(y_pred - y_true)/y_true.shape[0]"
   ]
  },
  {
   "cell_type": "markdown",
   "metadata": {},
   "source": [
    "# Optimizer"
   ]
  },
  {
   "cell_type": "markdown",
   "metadata": {},
   "source": [
    "We will now implement the optimization method used during learning.  \n",
    "We will use here the stochastic gradient descent.  \n",
    "The method is simple: for each step we will update the network parameters thanks to the following formula: suivante: $w_{t+1} = w_t - \\eta \\nabla$ où $\\eta$ is the learning rate."
   ]
  },
  {
   "cell_type": "code",
   "execution_count": 43,
   "metadata": {},
   "outputs": [],
   "source": [
    "# %load solutions/sgd.py\n",
    "class SGD():\n",
    "    def __init__(self, lr=0.001):\n",
    "        self.lr = lr\n",
    "    \n",
    "    def step(self, net):\n",
    "        for layer in net.layers:\n",
    "            if layer.layer_type == 'linear':\n",
    "                for param, grad in zip(layer.params.values(), layer.grads.values()):\n",
    "                    param-=self.lr*grad"
   ]
  },
  {
   "cell_type": "markdown",
   "metadata": {},
   "source": [
    "# Fit function"
   ]
  },
  {
   "cell_type": "markdown",
   "metadata": {},
   "source": [
    "t only remains to implement the fit function, which achieves an epoch of learning.\n",
    "The function must:\n",
    "* compute network predictions on the learning batch\n",
    "* compute the loss\n",
    "* compute the gradient of the loss\n",
    "* re-propagate the gradients\n",
    "* make an optimization step\n",
    "* return loss"
   ]
  },
  {
   "cell_type": "code",
   "execution_count": 44,
   "metadata": {},
   "outputs": [],
   "source": [
    "# %load solutions/fit.py\n",
    "def fit(net, loss, optimizer, X, y):\n",
    "    y_pred = net.forward(X)\n",
    "    prediction_loss = loss.loss(y_pred,y)\n",
    "    loss_grad = loss.grad(y_pred,y)\n",
    "    net.backward(loss_grad)\n",
    "    optimizer.step(net)\n",
    "    \n",
    "    return prediction_loss"
   ]
  },
  {
   "cell_type": "markdown",
   "metadata": {},
   "source": [
    "We can now train our network:"
   ]
  },
  {
   "cell_type": "code",
   "execution_count": 51,
   "metadata": {},
   "outputs": [
    {
     "ename": "ValueError",
     "evalue": "matmul: Input operand 1 has a mismatch in its core dimension 0, with gufunc signature (n?,k),(k,m?)->(n?,m?) (size 40 is different from 1)",
     "output_type": "error",
     "traceback": [
      "\u001b[0;31m---------------------------------------------------------------------------\u001b[0m",
      "\u001b[0;31mValueError\u001b[0m                                Traceback (most recent call last)",
      "Cell \u001b[0;32mIn[51], line 4\u001b[0m\n\u001b[1;32m      2\u001b[0m loss \u001b[39m=\u001b[39m MSE()\n\u001b[1;32m      3\u001b[0m \u001b[39mfor\u001b[39;00m i, (x, y) \u001b[39min\u001b[39;00m \u001b[39menumerate\u001b[39m(\u001b[39mzip\u001b[39m(X_train, y_train)):\n\u001b[0;32m----> 4\u001b[0m     training_loss \u001b[39m=\u001b[39m fit(net, loss, optimizer, np\u001b[39m.\u001b[39;49marray([x]), np\u001b[39m.\u001b[39;49marray([y]))\n",
      "Cell \u001b[0;32mIn[44], line 6\u001b[0m, in \u001b[0;36mfit\u001b[0;34m(net, loss, optimizer, X, y)\u001b[0m\n\u001b[1;32m      4\u001b[0m prediction_loss \u001b[39m=\u001b[39m loss\u001b[39m.\u001b[39mloss(y_pred,y)\n\u001b[1;32m      5\u001b[0m loss_grad \u001b[39m=\u001b[39m loss\u001b[39m.\u001b[39mgrad(y_pred,y)\n\u001b[0;32m----> 6\u001b[0m net\u001b[39m.\u001b[39;49mbackward(loss_grad)\n\u001b[1;32m      7\u001b[0m optimizer\u001b[39m.\u001b[39mstep(net)\n\u001b[1;32m      9\u001b[0m \u001b[39mreturn\u001b[39;00m prediction_loss\n",
      "Cell \u001b[0;32mIn[39], line 12\u001b[0m, in \u001b[0;36mNeuralNetwork.backward\u001b[0;34m(self, grad)\u001b[0m\n\u001b[1;32m     10\u001b[0m \u001b[39mdef\u001b[39;00m \u001b[39mbackward\u001b[39m(\u001b[39mself\u001b[39m, grad):\n\u001b[1;32m     11\u001b[0m     \u001b[39mfor\u001b[39;00m i \u001b[39min\u001b[39;00m \u001b[39mreversed\u001b[39m(\u001b[39mself\u001b[39m\u001b[39m.\u001b[39mlayers):\n\u001b[0;32m---> 12\u001b[0m         gr \u001b[39m=\u001b[39m i\u001b[39m.\u001b[39;49mbackward(grad)\n\u001b[1;32m     13\u001b[0m         grad \u001b[39m=\u001b[39m Activation(f\u001b[39m=\u001b[39mrelu, f_prime\u001b[39m=\u001b[39mrelu_prime)\u001b[39m.\u001b[39mbackward(gr)\n\u001b[1;32m     14\u001b[0m     \u001b[39mreturn\u001b[39;00m grad\n",
      "Cell \u001b[0;32mIn[6], line 26\u001b[0m, in \u001b[0;36mLinear.backward\u001b[0;34m(self, grad)\u001b[0m\n\u001b[1;32m     24\u001b[0m \u001b[39mself\u001b[39m\u001b[39m.\u001b[39mgrads[\u001b[39m\"\u001b[39m\u001b[39mweights\u001b[39m\u001b[39m\"\u001b[39m] \u001b[39m=\u001b[39m np\u001b[39m.\u001b[39mmatmul(\u001b[39mself\u001b[39m\u001b[39m.\u001b[39minputs\u001b[39m.\u001b[39mT, grad)\n\u001b[1;32m     25\u001b[0m \u001b[39mself\u001b[39m\u001b[39m.\u001b[39mgrads[\u001b[39m\"\u001b[39m\u001b[39mbias\u001b[39m\u001b[39m\"\u001b[39m] \u001b[39m=\u001b[39m np\u001b[39m.\u001b[39msum(grad, axis\u001b[39m=\u001b[39m\u001b[39m0\u001b[39m)\n\u001b[0;32m---> 26\u001b[0m \u001b[39mreturn\u001b[39;00m np\u001b[39m.\u001b[39;49mmatmul(grad, \u001b[39mself\u001b[39;49m\u001b[39m.\u001b[39;49mparams[\u001b[39m\"\u001b[39;49m\u001b[39mweights\u001b[39;49m\u001b[39m\"\u001b[39;49m])\n",
      "\u001b[0;31mValueError\u001b[0m: matmul: Input operand 1 has a mismatch in its core dimension 0, with gufunc signature (n?,k),(k,m?)->(n?,m?) (size 40 is different from 1)"
     ]
    }
   ],
   "source": [
    "optimizer = SGD(lr=0.01)\n",
    "loss = MSE()\n",
    "for i, (x, y) in enumerate(zip(X_train, y_train)):\n",
    "    training_loss = fit(net, loss, optimizer, np.array([x]), np.array([y]))"
   ]
  },
  {
   "cell_type": "markdown",
   "metadata": {},
   "source": [
    "Plot the results of your training:"
   ]
  },
  {
   "cell_type": "code",
   "execution_count": null,
   "metadata": {},
   "outputs": [],
   "source": [
    "y_pred = net.forward(X_test)\n",
    "print(mean_absolute_error(y_pred, y_test))\n",
    "    \n",
    "plt.figure(figsize=(20,5))\n",
    "plt.scatter(range(len(y_test)), scaler.inverse_transform(y_test), label='target')\n",
    "plt.scatter(range(len(y_test)), scaler.inverse_transform(y_pred), label='prediction')\n",
    "plt.legend()"
   ]
  },
  {
   "cell_type": "markdown",
   "metadata": {},
   "source": [
    "# Digits"
   ]
  },
  {
   "cell_type": "markdown",
   "metadata": {},
   "source": [
    "ENow let's try our class on a classification problem.\n",
    "We will seek to classify handwritten figures from pixels. We will use for this the [digits dataset from scikit-learn](https://scikit-learn.org/stable/modules/generated/sklearn.datasets.load_digits.html)  "
   ]
  },
  {
   "cell_type": "code",
   "execution_count": null,
   "metadata": {},
   "outputs": [],
   "source": [
    "import matplotlib.pyplot as plt\n",
    "import numpy as np\n",
    "from sklearn.datasets import load_digits\n",
    "\n",
    "dataset = load_digits()"
   ]
  },
  {
   "cell_type": "markdown",
   "metadata": {},
   "source": [
    "Display the first 10 elements of the dataset:"
   ]
  },
  {
   "cell_type": "code",
   "execution_count": null,
   "metadata": {},
   "outputs": [],
   "source": [
    "#load  solutions/digits.py"
   ]
  },
  {
   "cell_type": "markdown",
   "metadata": {},
   "source": [
    "Similar to the previous dataset, separate your data set in two and normalize the input vectors. (No need this time to normalize the y)"
   ]
  },
  {
   "cell_type": "code",
   "execution_count": null,
   "metadata": {},
   "outputs": [],
   "source": [
    "# %load solutions/digits_preprocessing.py\n",
    "from sklearn import preprocessing\n",
    "from sklearn.model_selection import train_test_split\n",
    "\n",
    "data = np.asarray(dataset.data, dtype='float32')\n",
    "target = np.asarray(dataset.target, dtype='int32')\n",
    "\n",
    "X_train, X_test, y_train, y_test = ...\n",
    "\n",
    "...\n",
    "X_train = ...\n",
    "X_test = ..."
   ]
  },
  {
   "cell_type": "markdown",
   "metadata": {},
   "source": [
    "# Cross entropy"
   ]
  },
  {
   "cell_type": "markdown",
   "metadata": {},
   "source": [
    "This time we are faced with a classification problem.  \n",
    "The MSE loss function is no longer suitable for our problem.  \n",
    "This time we will use the [cross-entropy.](https://en.wikipedia.org/wiki/Cross_entropy#Cross-entropy_loss_function_and_logistic_regression) as a loss function:\n",
    "$$ L = \\frac{1}{N}\\sum_{i=1}^{N}y_i \\cdot log(\\hat{y_i})$$  \n",
    "With $\\hat{y_i}$ the network prediction on which the softmax function is applied:\n",
    "$$softmax_j(x) = \\frac{e^x_j}{\\sum_{k}e^x_k}$$"
   ]
  },
  {
   "cell_type": "code",
   "execution_count": null,
   "metadata": {},
   "outputs": [],
   "source": [
    "def softmax(x):\n",
    "    return np.exp(x) / np.exp(x).sum(axis=-1,keepdims=True)\n",
    "\n",
    "class CrossEntropy():\n",
    "\n",
    "    def loss(self, logits, y_true):\n",
    "        logits_for_answers = logits[np.arange(len(logits)), y_true]\n",
    "        xentropy = - logits_for_answers + np.log(np.sum(np.exp(logits),axis=-1))\n",
    "        return xentropy\n",
    "\n",
    "\n",
    "\n",
    "    def grad(self, logits, y_true):\n",
    "        ones_for_answers = np.zeros_like(logits)\n",
    "        ones_for_answers[np.arange(len(logits)), y_true] = 1\n",
    "        y_softmax = softmax(logits)\n",
    "        return (- ones_for_answers + y_softmax) / logits.shape[0]"
   ]
  },
  {
   "cell_type": "markdown",
   "metadata": {},
   "source": [
    "Instantiate a neural network capable of predicting the class of an image:"
   ]
  },
  {
   "cell_type": "code",
   "execution_count": null,
   "metadata": {},
   "outputs": [],
   "source": [
    "#%load solutions/digits_net.py\n",
    "...\n",
    "net = ...\n",
    "optimizer = SGD(lr=0.05)"
   ]
  },
  {
   "cell_type": "markdown",
   "metadata": {},
   "source": [
    "Calculate the accuracy of your network on the test set. (You can use the function [acuracy_score](https://scikit-learn.org/stable/modules/generated/sklearn.metrics.accuracy_score.html) from scikit-learn)"
   ]
  },
  {
   "cell_type": "code",
   "execution_count": null,
   "metadata": {},
   "outputs": [],
   "source": [
    "#%load  solutions/accuracy1.py"
   ]
  },
  {
   "cell_type": "markdown",
   "metadata": {},
   "source": [
    "The following function allows you to view our predictions"
   ]
  },
  {
   "cell_type": "code",
   "execution_count": null,
   "metadata": {},
   "outputs": [],
   "source": [
    "def plot_prediction(net, sample_idx=range(3), classes=range(10)):\n",
    "    \n",
    "    for idx in sample_idx:\n",
    "        plt.figure()\n",
    "        logits = net.forward(X_test[idx])\n",
    "        probas = softmax(logits)\n",
    "        prediction = np.argmax(probas)\n",
    "\n",
    "        fig, (ax0, ax1) = plt.subplots(nrows=1, ncols=2, figsize=(10, 4))\n",
    "\n",
    "        ax0.imshow(scaler.inverse_transform(X_test[idx]).reshape(8, 8), cmap=plt.cm.gray_r,\n",
    "                   interpolation='nearest')\n",
    "        ax0.set_title(\"True image label: %d\" % y_test[idx]);\n",
    "        ax1.bar(classes, np.eye(len(classes))[y_test[idx]], label='true')\n",
    "        ax1.bar(classes, probas, label='prediction', color=\"red\")\n",
    "        ax1.set_xticks(classes)\n",
    "\n",
    "        ax1.set_title('Output probabilities (prediction: %d)'\n",
    "                      % prediction)\n",
    "        ax1.set_xlabel('Digit class')\n",
    "        ax1.legend()"
   ]
  },
  {
   "cell_type": "code",
   "execution_count": null,
   "metadata": {},
   "outputs": [],
   "source": [
    "plot_prediction(net, sample_idx=range(3))"
   ]
  },
  {
   "cell_type": "markdown",
   "metadata": {},
   "source": [
    "This time, we will use mini-batches during our learning.\n",
    "The following function iterates over mini-batches:"
   ]
  },
  {
   "cell_type": "code",
   "execution_count": null,
   "metadata": {},
   "outputs": [],
   "source": [
    "def iterate_minibatches(inputs, targets, batchsize, shuffle=True):\n",
    "    assert inputs.shape[0] == targets.shape[0]\n",
    "    if shuffle:\n",
    "        indices = np.arange(inputs.shape[0])\n",
    "        np.random.shuffle(indices)\n",
    "    for start_idx in range(0, inputs.shape[0] - batchsize + 1, batchsize):\n",
    "        if shuffle:\n",
    "            excerpt = indices[start_idx:start_idx + batchsize]\n",
    "        else:\n",
    "            excerpt = slice(start_idx, start_idx + batchsize)\n",
    "        yield inputs[excerpt], targets[excerpt]"
   ]
  },
  {
   "cell_type": "markdown",
   "metadata": {},
   "source": [
    "And the following function to realize a learning epoch using mini-batches:"
   ]
  },
  {
   "cell_type": "code",
   "execution_count": null,
   "metadata": {},
   "outputs": [],
   "source": [
    "def fit_one_epoch(X, y_true):\n",
    "    for x, y in iterate_minibatches(X, y_true, 32):\n",
    "        training_loss = fit(net, loss, optimizer, x, y)\n",
    "        \n",
    "    return training_loss.mean()"
   ]
  },
  {
   "cell_type": "markdown",
   "metadata": {},
   "source": [
    "Train your network over 15 epochs.  \n",
    "At each epoch calculate your accuracy on the train set and on the test set and display them on the same graph once the training is over."
   ]
  },
  {
   "cell_type": "code",
   "execution_count": null,
   "metadata": {},
   "outputs": [],
   "source": [
    "#%load solutions/plot_accuracy.py"
   ]
  },
  {
   "cell_type": "markdown",
   "metadata": {},
   "source": [
    "Display your accuracy on the test set and visualize your predictions using the plot_prediction function)"
   ]
  },
  {
   "cell_type": "code",
   "execution_count": null,
   "metadata": {},
   "outputs": [],
   "source": [
    "# %load solutions/accuracy2.py"
   ]
  },
  {
   "cell_type": "markdown",
   "metadata": {},
   "source": [
    "Try to display your confusion matrix by taking inspiration from [this code:](https://scikit-learn.org/dev/auto_examples/classification/plot_digits_classification.html#sphx-glr-auto-examples-classification-plot-digits-classification-py) "
   ]
  },
  {
   "cell_type": "code",
   "execution_count": null,
   "metadata": {},
   "outputs": [],
   "source": [
    "# %load solutions/confusion_matrix.py"
   ]
  },
  {
   "cell_type": "markdown",
   "metadata": {},
   "source": [
    "Display the examples on which the network is mistaken:"
   ]
  },
  {
   "cell_type": "code",
   "execution_count": null,
   "metadata": {},
   "outputs": [],
   "source": [
    "# %load solutions/plot_errors.py"
   ]
  }
 ],
 "metadata": {
  "kernelspec": {
   "display_name": "Python 3",
   "language": "python",
   "name": "python3"
  },
  "language_info": {
   "codemirror_mode": {
    "name": "ipython",
    "version": 3
   },
   "file_extension": ".py",
   "mimetype": "text/x-python",
   "name": "python",
   "nbconvert_exporter": "python",
   "pygments_lexer": "ipython3",
   "version": "3.10.4"
  },
  "vscode": {
   "interpreter": {
    "hash": "3ad933181bd8a04b432d3370b9dc3b0662ad032c4dfaa4e4f1596c548f763858"
   }
  }
 },
 "nbformat": 4,
 "nbformat_minor": 4
}
